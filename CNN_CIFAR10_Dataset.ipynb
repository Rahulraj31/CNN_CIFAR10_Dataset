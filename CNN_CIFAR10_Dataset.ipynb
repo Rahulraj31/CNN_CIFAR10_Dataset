{
  "nbformat": 4,
  "nbformat_minor": 0,
  "metadata": {
    "colab": {
      "name": "CNN CIFAR10 Dataset.ipynb",
      "provenance": [],
      "authorship_tag": "ABX9TyNGC6OXYRJsSV1SOepT2hQd",
      "include_colab_link": true
    },
    "kernelspec": {
      "name": "python3",
      "display_name": "Python 3"
    },
    "language_info": {
      "name": "python"
    },
    "accelerator": "GPU"
  },
  "cells": [
    {
      "cell_type": "markdown",
      "metadata": {
        "id": "view-in-github",
        "colab_type": "text"
      },
      "source": [
        "<a href=\"https://colab.research.google.com/github/Rahulraj31/Cnn/blob/main/CNN_CIFAR10_Dataset.ipynb\" target=\"_parent\"><img src=\"https://colab.research.google.com/assets/colab-badge.svg\" alt=\"Open In Colab\"/></a>"
      ]
    },
    {
      "cell_type": "code",
      "metadata": {
        "id": "3FdPWtk8LbQP"
      },
      "source": [
        "import tensorflow as tf \n",
        "from tensorflow.keras import datasets,layers,models\n",
        "import matplotlib.pyplot as plt\n",
        "import numpy as np"
      ],
      "execution_count": 1,
      "outputs": []
    },
    {
      "cell_type": "code",
      "metadata": {
        "id": "EYzHjK88MCSN"
      },
      "source": [
        "(x_train,y_train),(x_test,y_test)=datasets.cifar10.load_data()"
      ],
      "execution_count": 2,
      "outputs": []
    },
    {
      "cell_type": "code",
      "metadata": {
        "colab": {
          "base_uri": "https://localhost:8080/"
        },
        "id": "RyTajEGBMay0",
        "outputId": "84b5d4e9-da35-4386-9bdb-cfbb578274ba"
      },
      "source": [
        "x_train.shape     #32,32 is dimensionand 3 means RGB channel"
      ],
      "execution_count": 3,
      "outputs": [
        {
          "output_type": "execute_result",
          "data": {
            "text/plain": [
              "(50000, 32, 32, 3)"
            ]
          },
          "metadata": {
            "tags": []
          },
          "execution_count": 3
        }
      ]
    },
    {
      "cell_type": "code",
      "metadata": {
        "colab": {
          "base_uri": "https://localhost:8080/"
        },
        "id": "1Dl2SkVHMc2a",
        "outputId": "24b5b322-cfc9-44a0-f981-386714e78e04"
      },
      "source": [
        "x_test.shape"
      ],
      "execution_count": 4,
      "outputs": [
        {
          "output_type": "execute_result",
          "data": {
            "text/plain": [
              "(10000, 32, 32, 3)"
            ]
          },
          "metadata": {
            "tags": []
          },
          "execution_count": 4
        }
      ]
    },
    {
      "cell_type": "code",
      "metadata": {
        "colab": {
          "base_uri": "https://localhost:8080/",
          "height": 283
        },
        "id": "ZKERj3fUMfqL",
        "outputId": "b2269320-bfd6-4500-f720-140538af770d"
      },
      "source": [
        "plt.imshow(x_train[0]) # or plt.matshow(x_train[0])"
      ],
      "execution_count": 5,
      "outputs": [
        {
          "output_type": "execute_result",
          "data": {
            "text/plain": [
              "<matplotlib.image.AxesImage at 0x7f27d8890e50>"
            ]
          },
          "metadata": {
            "tags": []
          },
          "execution_count": 5
        },
        {
          "output_type": "display_data",
          "data": {
            "image/png": "[encoded data removed]",
            "text/plain": [
              "<Figure size 432x288 with 1 Axes>"
            ]
          },
          "metadata": {
            "tags": [],
            "needs_background": "light"
          }
        }
      ]
    },
    {
      "cell_type": "code",
      "metadata": {
        "colab": {
          "base_uri": "https://localhost:8080/"
        },
        "id": "CksW5REgNi--",
        "outputId": "b02c7db4-23b8-4764-9f6a-fad466ddeae9"
      },
      "source": [
        "y_train.shape"
      ],
      "execution_count": 6,
      "outputs": [
        {
          "output_type": "execute_result",
          "data": {
            "text/plain": [
              "(50000, 1)"
            ]
          },
          "metadata": {
            "tags": []
          },
          "execution_count": 6
        }
      ]
    },
    {
      "cell_type": "code",
      "metadata": {
        "colab": {
          "base_uri": "https://localhost:8080/"
        },
        "id": "pBDbHBnSNu2M",
        "outputId": "7d691c81-2354-42c4-be82-21cf0a46b417"
      },
      "source": [
        "y_train[:5]              # returns class number of the class "
      ],
      "execution_count": 7,
      "outputs": [
        {
          "output_type": "execute_result",
          "data": {
            "text/plain": [
              "array([[6],\n",
              "       [9],\n",
              "       [9],\n",
              "       [4],\n",
              "       [1]], dtype=uint8)"
            ]
          },
          "metadata": {
            "tags": []
          },
          "execution_count": 7
        }
      ]
    },
    {
      "cell_type": "code",
      "metadata": {
        "colab": {
          "base_uri": "https://localhost:8080/"
        },
        "id": "xiEBHnLtNukT",
        "outputId": "6eef0a41-858c-495a-cd4e-8e3eed6e6967"
      },
      "source": [
        "# As it is 2D we will change it to 1D i.e.flatten it \n",
        "y_train=y_train.reshape(-1,)  # -1 means we dont want to change 5000 wali dimension\n",
        "y_train[:5]"
      ],
      "execution_count": 8,
      "outputs": [
        {
          "output_type": "execute_result",
          "data": {
            "text/plain": [
              "array([6, 9, 9, 4, 1], dtype=uint8)"
            ]
          },
          "metadata": {
            "tags": []
          },
          "execution_count": 8
        }
      ]
    },
    {
      "cell_type": "code",
      "metadata": {
        "id": "9AqD6RdmOXnk"
      },
      "source": [
        "classes=[\"airplane\",\"automobile\",\"bird\",\"cat\",\"deer\",\"dog\",\"frog\",\"horse\",\"ship\",\"truck\"]"
      ],
      "execution_count": 9,
      "outputs": []
    },
    {
      "cell_type": "code",
      "metadata": {
        "id": "0BXvbKZ7MqTD"
      },
      "source": [
        " def plot_sample(X,y,index):\n",
        "   plt.figure(figsize=(15,2))\n",
        "   plt.imshow(X[index])\n",
        "   plt.xlabel(classes[y[index]])"
      ],
      "execution_count": 10,
      "outputs": []
    },
    {
      "cell_type": "code",
      "metadata": {
        "colab": {
          "base_uri": "https://localhost:8080/",
          "height": 173
        },
        "id": "0FE8G60BPD8e",
        "outputId": "7f587e32-36b9-4409-b63f-112763d4040f"
      },
      "source": [
        "plot_sample(x_train,y_train,100)"
      ],
      "execution_count": 11,
      "outputs": [
        {
          "output_type": "display_data",
          "data": {
            "image/png": "[encoded data removed]",
            "text/plain": [
              "<Figure size 1080x144 with 1 Axes>"
            ]
          },
          "metadata": {
            "tags": [],
            "needs_background": "light"
          }
        }
      ]
    },
    {
      "cell_type": "code",
      "metadata": {
        "colab": {
          "base_uri": "https://localhost:8080/",
          "height": 173
        },
        "id": "ktTLXoP5PNCU",
        "outputId": "734b0088-7267-4915-877d-244f89321e4b"
      },
      "source": [
        "plot_sample(x_train,y_train,5)\n"
      ],
      "execution_count": 12,
      "outputs": [
        {
          "output_type": "display_data",
          "data": {
            "image/png": "[encoded data removed]",
            "text/plain": [
              "<Figure size 1080x144 with 1 Axes>"
            ]
          },
          "metadata": {
            "tags": [],
            "needs_background": "light"
          }
        }
      ]
    },
    {
      "cell_type": "markdown",
      "metadata": {
        "id": "i0JCCtyoQoAd"
      },
      "source": [
        "## Lets normalize it "
      ]
    },
    {
      "cell_type": "code",
      "metadata": {
        "id": "WWVRQ19LPskb"
      },
      "source": [
        "\n",
        "X_train=x_train/255.0\n",
        "X_test=x_test/255.0\n",
        "# you can use Std Scaler also"
      ],
      "execution_count": 15,
      "outputs": []
    },
    {
      "cell_type": "markdown",
      "metadata": {
        "id": "wzmDCvs9QUQC"
      },
      "source": [
        "# Lets Build simple ANN so that we can compare it with our CNN in later part "
      ]
    },
    {
      "cell_type": "code",
      "metadata": {
        "colab": {
          "base_uri": "https://localhost:8080/"
        },
        "id": "HmA7OCd0QHx7",
        "outputId": "959d8a7a-c45f-4b90-ce23-8defc4bfd25f"
      },
      "source": [
        "ann= models.Sequential([\n",
        "                         layers.Flatten(input_shape=(32,32,3)),\n",
        "                         layers.Dense(3000,activation='relu'),\n",
        "                         layers.Dense(1500,activation='relu'),\n",
        "                         layers.Dense(10,activation='sigmoid')\n",
        "                         \n",
        "])\n",
        "\n",
        "ann.compile(optimizer=\"SGD\",loss='sparse_categorical_crossentropy',metrics=[\"accuracy\"])\n",
        "ann.fit(X_train,y_train,epochs=5)"
      ],
      "execution_count": 18,
      "outputs": [
        {
          "output_type": "stream",
          "text": [
            "Epoch 1/5\n",
            "1563/1563 [==============================] - 5s 3ms/step - loss: 1.8112 - accuracy: 0.3566\n",
            "Epoch 2/5\n",
            "1563/1563 [==============================] - 5s 3ms/step - loss: 1.6212 - accuracy: 0.4267\n",
            "Epoch 3/5\n",
            "1563/1563 [==============================] - 5s 3ms/step - loss: 1.5397 - accuracy: 0.4554\n",
            "Epoch 4/5\n",
            "1563/1563 [==============================] - 5s 3ms/step - loss: 1.4773 - accuracy: 0.4802\n",
            "Epoch 5/5\n",
            "1563/1563 [==============================] - 5s 3ms/step - loss: 1.4278 - accuracy: 0.4969\n"
          ],
          "name": "stdout"
        },
        {
          "output_type": "execute_result",
          "data": {
            "text/plain": [
              "<tensorflow.python.keras.callbacks.History at 0x7f273863e890>"
            ]
          },
          "metadata": {
            "tags": []
          },
          "execution_count": 18
        }
      ]
    }
  ]
}